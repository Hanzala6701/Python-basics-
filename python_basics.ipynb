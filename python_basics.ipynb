{
  "nbformat": 4,
  "nbformat_minor": 0,
  "metadata": {
    "colab": {
      "provenance": [],
      "authorship_tag": "ABX9TyNGqaohr4N0FzWObC9DL/4u",
      "include_colab_link": true
    },
    "kernelspec": {
      "name": "python3",
      "display_name": "Python 3"
    },
    "language_info": {
      "name": "python"
    }
  },
  "cells": [
    {
      "cell_type": "markdown",
      "metadata": {
        "id": "view-in-github",
        "colab_type": "text"
      },
      "source": [
        "<a href=\"https://colab.research.google.com/github/Hanzala6701/Python-basics-/blob/main/python_basics.ipynb\" target=\"_parent\"><img src=\"https://colab.research.google.com/assets/colab-badge.svg\" alt=\"Open In Colab\"/></a>"
      ]
    },
    {
      "cell_type": "markdown",
      "source": [
        "1- What is Python, and why is it popular?\n",
        "\n",
        "-Python is a versatile, high-level, interpreted programming language known for its readability and ease of use. It's popular due to its simple syntax, extensive libraries, and adaptability to various fields like web development, data science, and machine learning."
      ],
      "metadata": {
        "id": "6Wgf1yCk6wNf"
      }
    },
    {
      "cell_type": "markdown",
      "source": [
        "2-What is an interpreter in Python?\n",
        "\n",
        "-In Python, an interpreter is a program that reads and executes code line by line.The interpreter reads Python code, analyzes it, and executes it directly, without needing to be compiled into machine code first."
      ],
      "metadata": {
        "id": "dYwH2uuy8M5O"
      }
    },
    {
      "cell_type": "markdown",
      "source": [
        "3-What are pre-defined keywords in Python?\n",
        "- Keywords in Python are reserved words that have predefined meanings and purposes within the language.\n",
        "Example -\n",
        "#Control Flow: if, else, elif, for, while, etc.\n",
        "#Function Definition: def, lambda\n",
        "#Boolean Values: True, False. Represent Boolean values\n",
        "#Logical Operations: and, or, not. Used for logical operations."
      ],
      "metadata": {
        "id": "hAfaTD8v8hHm"
      }
    },
    {
      "cell_type": "markdown",
      "source": [
        "\n",
        "4)Can keywords be used as variable names?\n",
        "\n",
        "-No, keywords cannot be used as variable names.Keywords have specific, predefined meanings within the language and are used for syntax and structure"
      ],
      "metadata": {
        "id": "bTHhdgxp9KGz"
      }
    },
    {
      "cell_type": "markdown",
      "source": [
        "\n",
        "5)What is mutability in Python?\n",
        "\n",
        "-Mutability in Python refers to an object's ability to be modified after its creation.Mutable objects allow for changes to their internal data."
      ],
      "metadata": {
        "id": "434rovlw92q7"
      }
    },
    {
      "cell_type": "markdown",
      "source": [
        "\n",
        "6)Why are lists mutable, but tuples are immutable?\n",
        "\n",
        "-Tuples and lists are the same in every way except two: tuples use parentheses instead of square brackets, and the items in tuples cannot be modified (but the items in lists can be modified). We often call lists mutable (meaning they can be changed) and tuples immutable (meaning they cannot be changed)."
      ],
      "metadata": {
        "id": "IjEX47Be-AuV"
      }
    },
    {
      "cell_type": "markdown",
      "source": [
        "7)What is the difference between \"==\" and \"is\" operators in Python?\n",
        "\n",
        "-The == and is operators in Python are used for comparison, but they serve different purposes\n",
        "• == (Equality Operator): This operator checks if the values of two objects are equal.\n",
        "• is (Identity Operator): This operator checks if two variables refer to the same object in memory."
      ],
      "metadata": {
        "id": "fa9kpGiV-I-j"
      }
    },
    {
      "cell_type": "markdown",
      "source": [
        "8)What are logical operators in Python?\n",
        "\n",
        "-Logical operators in Python are used to combine or modify conditional statements. They operate on boolean values (True or False) and return a boolean result. There are three main logical operators in Python."
      ],
      "metadata": {
        "id": "y4i1e_Hs-Upr"
      }
    },
    {
      "cell_type": "markdown",
      "source": [
        "\n",
        "9) What is type casting in Python?\n",
        "\n",
        "-Type casting, also known as type conversion, is the process of changing a variable's data type to another. This is necessary because different data types have different properties and behaviors, and sometimes you need to treat data as a different type to perform specific operations or ensure compatibility between different parts of your code."
      ],
      "metadata": {
        "id": "E7Wzbcn5-eLs"
      }
    },
    {
      "cell_type": "markdown",
      "source": [
        "10)What is the difference between implicit and explicit type casting?\n",
        "\n",
        "-Implicit type casting, also known as widening or upcasting, is automatically performed by the compiler when a smaller data type is converted to a larger one. Explicit type casting, also known as narrowing or downcasting, requires the programmer to explicitly convert a larger data type to a smaller one, often involving the risk of data loss."
      ],
      "metadata": {
        "id": "aBIDW-ZZ-mlm"
      }
    },
    {
      "cell_type": "markdown",
      "source": [
        "\n",
        "11)What is the purpose of conditional statements in Python?\n",
        "\n",
        "-Conditional statements in Python are used to control the flow of execution based on whether a certain condition is true or false. They allow a program to make decisions and execute different code blocks depending on the outcome of these conditions."
      ],
      "metadata": {
        "id": "BrbtDhOI-uzf"
      }
    },
    {
      "cell_type": "markdown",
      "source": [
        "\n",
        "12) How does the elif statement work?\n",
        "\n",
        "-The code block under the elif statement will be executed only if its condition is true"
      ],
      "metadata": {
        "id": "UNwRCriB-2Cx"
      }
    },
    {
      "cell_type": "markdown",
      "source": [
        "13)  What is the difference between for and while loops?\n",
        "\n",
        "-The primary difference between for and while loops lies in their purpose and the nature of their execution. for loops are typically used when you know how many times you want to iterate or when you need to process each element of a sequence, while while loops are used when you want to repeat a block of code until a certain condition is met, which may not be a predetermined number of times."
      ],
      "metadata": {
        "id": "qEz9hKci_GTF"
      }
    },
    {
      "cell_type": "markdown",
      "source": [
        "\n",
        "14) Describe a scenario where a while loop is more suitable than a for loop?\n",
        "\n",
        "-programming, for loops are best used when you know the number of iterations ahead of time, whereas a while loop is best used when you don't know the number of iterations in advance."
      ],
      "metadata": {
        "id": "uWuFOmMV_NxY"
      }
    },
    {
      "cell_type": "code",
      "execution_count": null,
      "metadata": {
        "colab": {
          "base_uri": "https://localhost:8080/"
        },
        "id": "i63oX0u82djE",
        "outputId": "3794c820-9fef-46a6-c5d7-2b7754c0c3a6"
      },
      "outputs": [
        {
          "output_type": "stream",
          "name": "stdout",
          "text": [
            "Hello World!!\n"
          ]
        }
      ],
      "source": [
        "\"\"\"1-Write a Python program to print \"Hello, World!\"\"\"\n",
        "print(\"Hello World!!\")"
      ]
    },
    {
      "cell_type": "code",
      "source": [
        "\n",
        "\"\"\"2-Write a Python program that displays your name and age\"\"\"\n",
        "print(\"My name is\", \"Hanzala charfare\")\n",
        "print(\"I am\", 23 , \"years old\")"
      ],
      "metadata": {
        "colab": {
          "base_uri": "https://localhost:8080/"
        },
        "id": "gfgIt3Tf486a",
        "outputId": "adda494a-eb81-4f44-e11d-71a26a4a8b5c"
      },
      "execution_count": null,
      "outputs": [
        {
          "output_type": "stream",
          "name": "stdout",
          "text": [
            "My name is Hanzala charfare\n",
            "I am 23 years old\n"
          ]
        }
      ]
    },
    {
      "cell_type": "code",
      "source": [
        "\n",
        "\"\"\"3-Write code to print all the pre-defined keywords in Python using the keyword library\"\"\"\n",
        "\n",
        "print(keyword.kwlist)"
      ],
      "metadata": {
        "colab": {
          "base_uri": "https://localhost:8080/"
        },
        "id": "bsBwIdimC1hT",
        "outputId": "6a703045-4aec-4f12-e8f3-9f8e7310d7d3"
      },
      "execution_count": null,
      "outputs": [
        {
          "output_type": "stream",
          "name": "stdout",
          "text": [
            "['False', 'None', 'True', 'and', 'as', 'assert', 'async', 'await', 'break', 'class', 'continue', 'def', 'del', 'elif', 'else', 'except', 'finally', 'for', 'from', 'global', 'if', 'import', 'in', 'is', 'lambda', 'nonlocal', 'not', 'or', 'pass', 'raise', 'return', 'try', 'while', 'with', 'yield']\n"
          ]
        }
      ]
    },
    {
      "cell_type": "code",
      "source": [
        "\n",
        "\"\"\"4- Write a program that checks if a given word is a Python keyword.\"\"\"\n",
        "\n",
        "\n",
        "import keyword\n",
        "\n",
        "def is_keyword(word):\n",
        "    \"\"\"Checks if a given word is a Python keyword.\n",
        "\n",
        "    Args:\n",
        "        word: The word to check.\n",
        "\n",
        "    Returns:\n",
        "        True if the word is a keyword, False otherwise.\n",
        "    \"\"\"\n",
        "    return keyword.iskeyword(word)\n",
        "\n",
        "# Example usage\n",
        "word1 = \"for\"\n",
        "word2 = \"hello\"\n",
        "print(f\"'{word1}' is a keyword: {is_keyword(word1)}\")\n",
        "print(f\"'{word2}' is a keyword: {is_keyword(word2)}\")"
      ],
      "metadata": {
        "colab": {
          "base_uri": "https://localhost:8080/"
        },
        "id": "aNaHr5aKDWC-",
        "outputId": "2f7a135c-59f1-4c57-a179-5c52ec12932c"
      },
      "execution_count": null,
      "outputs": [
        {
          "output_type": "stream",
          "name": "stdout",
          "text": [
            "'for' is a keyword: True\n",
            "'hello' is a keyword: False\n"
          ]
        }
      ]
    },
    {
      "cell_type": "code",
      "source": [
        "\n",
        "\"\"\"5-Create a list and tuple in Python, and demonstrate how attempting to change an element works differently for each.\"\"\"\n",
        "\n",
        "# Creating a list\n",
        "my_list = [10, 20, 30]\n",
        "print(\"Original list:\", my_list)\n",
        "\n",
        "# Modifying the second element of the list\n",
        "my_list[1] = 99\n",
        "print(\"Modified list:\", my_list)\n",
        "\n",
        "# Creating a tuple\n",
        "my_tuple = (10, 20, 30)\n",
        "print(\"Original tuple:\", my_tuple)\n",
        "\n",
        "# Trying to modify the second element of the tuple (will raise an error)\n",
        "try:\n",
        "    my_tuple[1] = 99\n",
        "except TypeError as e:\n",
        "    print(\"Error while modifying tuple:\", e)"
      ],
      "metadata": {
        "colab": {
          "base_uri": "https://localhost:8080/"
        },
        "id": "_yx5rtkBpiju",
        "outputId": "1f6e12d0-2220-4b69-9665-8362e3f5c073"
      },
      "execution_count": null,
      "outputs": [
        {
          "output_type": "stream",
          "name": "stdout",
          "text": [
            "Original list: [10, 20, 30]\n",
            "Modified list: [10, 99, 30]\n",
            "Original tuple: (10, 20, 30)\n",
            "Error while modifying tuple: 'tuple' object does not support item assignment\n"
          ]
        }
      ]
    },
    {
      "cell_type": "code",
      "source": [
        "\n",
        "\"\"\"6-Write a function to demonstrate the behavior of mutable and immutable arguments.\"\"\"\n",
        "\n",
        "def modify_arguments(immutable_arg, mutable_arg):\n",
        "    \"\"\"\n",
        "    Demonstrates the behavior of mutable and immutable arguments.\n",
        "\n",
        "    Args:\n",
        "      immutable_arg: An immutable object (e.g., integer, string, tuple).\n",
        "      mutable_arg: A mutable object (e.g., list, dictionary).\n",
        "    \"\"\"\n",
        "\n",
        "    # Attempt to modify the immutable argument\n",
        "    immutable_arg = immutable_arg + 1  # This creates a new object\n",
        "    print(f\"Inside function: Immutable arg = {immutable_arg}\")\n",
        "\n",
        "    # Modify the mutable argument\n",
        "    mutable_arg.append(4) # This modifies the original object\n",
        "    print(f\"Inside function: Mutable arg = {mutable_arg}\")\n",
        "\n",
        "# Example usage\n",
        "immutable_value = 5\n",
        "mutable_value = [1, 2, 3]\n",
        "\n",
        "print(f\"Before function call: Immutable arg = {immutable_value}\")\n",
        "print(f\"Before function call: Mutable arg = {mutable_value}\")\n",
        "\n",
        "modify_arguments(immutable_value, mutable_value)\n",
        "\n",
        "print(f\"After function call: Immutable arg = {immutable_value}\")\n",
        "print(f\"After function call: Mutable arg = {mutable_value}\")"
      ],
      "metadata": {
        "colab": {
          "base_uri": "https://localhost:8080/"
        },
        "id": "g1xUEJqzsIJ1",
        "outputId": "6f2d7a10-f61e-4f55-baad-8b610c94d95d"
      },
      "execution_count": null,
      "outputs": [
        {
          "output_type": "stream",
          "name": "stdout",
          "text": [
            "Before function call: Immutable arg = 5\n",
            "Before function call: Mutable arg = [1, 2, 3]\n",
            "Inside function: Immutable arg = 6\n",
            "Inside function: Mutable arg = [1, 2, 3, 4]\n",
            "After function call: Immutable arg = 5\n",
            "After function call: Mutable arg = [1, 2, 3, 4]\n"
          ]
        }
      ]
    },
    {
      "cell_type": "code",
      "source": [
        "\n",
        "\n",
        "\"\"\"8-Write a program to demonstrate the use of logical operators.\"\"\"\n",
        "x = 5\n",
        "print(x > 0 and x < 10)\n",
        "print(x > 0 and x > 10)"
      ],
      "metadata": {
        "colab": {
          "base_uri": "https://localhost:8080/"
        },
        "id": "Wi3oCJifw2yJ",
        "outputId": "8e92ff02-fb00-47ac-9e77-adb03d158683"
      },
      "execution_count": null,
      "outputs": [
        {
          "output_type": "stream",
          "name": "stdout",
          "text": [
            "True\n",
            "False\n"
          ]
        }
      ]
    },
    {
      "cell_type": "code",
      "source": [
        "\"\"\"10-Write code to demonstrate type casting with list elements\"\"\"\n",
        "\n",
        "\n",
        "# Original list of string numbers\n",
        "str_list = [\"1\", \"2\", \"3\", \"4.5\", \"0\", \"True\", \"False\", \"\"]\n",
        "\n",
        "# Convert to integers (where possible)\n",
        "int_list = []\n",
        "for item in str_list:\n",
        "    try:\n",
        "        int_list.append(int(float(item)))  # Handles \"4.5\" by casting to float first\n",
        "    except ValueError:\n",
        "        int_list.append(None)  # Placeholder for invalid conversions\n",
        "\n",
        "# Convert to floats\n",
        "float_list = []\n",
        "for item in str_list:\n",
        "    try:\n",
        "        float_list.append(float(item))\n",
        "    except ValueError:\n",
        "        float_list.append(None)\n",
        "\n",
        "# Convert to booleans\n",
        "bool_list = [bool(item) for item in str_list]\n",
        "\n",
        "# Display results\n",
        "print(\"Original List:\", str_list)\n",
        "print(\"As Integers:  \", int_list)\n",
        "print(\"As Floats:    \", float_list)\n",
        "print(\"As Booleans:  \", bool_list)"
      ],
      "metadata": {
        "colab": {
          "base_uri": "https://localhost:8080/"
        },
        "id": "D-4WqksWzWAR",
        "outputId": "e1190806-51e0-4f13-c389-a7bea4729bc0"
      },
      "execution_count": null,
      "outputs": [
        {
          "output_type": "stream",
          "name": "stdout",
          "text": [
            "Original List: ['1', '2', '3', '4.5', '0', 'True', 'False', '']\n",
            "As Integers:   [1, 2, 3, 4, 0, None, None, None]\n",
            "As Floats:     [1.0, 2.0, 3.0, 4.5, 0.0, None, None, None]\n",
            "As Booleans:   [True, True, True, True, True, True, True, False]\n"
          ]
        }
      ]
    },
    {
      "cell_type": "code",
      "source": [
        "\n",
        "\"\"\"12- Write a for loop to print numbers from 1 to 10.\"\"\"\n",
        "\n",
        "# Print numbers from 1 to 10 using a for loop\n",
        "for i in range(1, 11):\n",
        "    print(i)"
      ],
      "metadata": {
        "colab": {
          "base_uri": "https://localhost:8080/"
        },
        "id": "PwxFJRX51RSc",
        "outputId": "9792075e-c351-4a11-983f-d71551000323"
      },
      "execution_count": null,
      "outputs": [
        {
          "output_type": "stream",
          "name": "stdout",
          "text": [
            "1\n",
            "2\n",
            "3\n",
            "4\n",
            "5\n",
            "6\n",
            "7\n",
            "8\n",
            "9\n",
            "10\n"
          ]
        }
      ]
    },
    {
      "cell_type": "code",
      "source": [
        "\n",
        "\"\"\"13. Write a Python program to find the sum of all even numbers between 1 and 50.\"\"\"\n",
        "\n",
        "total = 0\n",
        "for number in range(2, 51, 2):\n",
        "    total += number\n",
        "print(total)"
      ],
      "metadata": {
        "colab": {
          "base_uri": "https://localhost:8080/"
        },
        "id": "IFeiQApf1g9n",
        "outputId": "c9ebe653-60ed-49f0-a704-6894360a0904"
      },
      "execution_count": null,
      "outputs": [
        {
          "output_type": "stream",
          "name": "stdout",
          "text": [
            "650\n"
          ]
        }
      ]
    },
    {
      "cell_type": "code",
      "source": [
        "\"\"\"14. Write a program to reverse a string using a while loop.\"\"\"\n",
        "\n",
        "\n",
        "def reverse_string(s):\n",
        "    reversed_s = \"\"\n",
        "    i = len(s) - 1\n",
        "    while i >= 0:\n",
        "        reversed_s += s[i]\n",
        "        i -= 1\n",
        "    return reversed_s\n",
        "\n",
        "# Example usage\n",
        "string = \"Hello World!\"\n",
        "reversed_string = reverse_string(string)\n",
        "print(\"Original string:\", string)\n",
        "print(\"Reversed string:\", reversed_string)"
      ],
      "metadata": {
        "colab": {
          "base_uri": "https://localhost:8080/"
        },
        "id": "fx1aA5fh1x8g",
        "outputId": "06f44dbe-4613-4e3c-f45e-822b8e93fe7f"
      },
      "execution_count": null,
      "outputs": [
        {
          "output_type": "stream",
          "name": "stdout",
          "text": [
            "Original string: Hello World!\n",
            "Reversed string: !dlroW olleH\n"
          ]
        }
      ]
    }
  ]
}